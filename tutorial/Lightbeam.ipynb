{
 "cells": [
  {
   "cell_type": "markdown",
   "source": [
    "# Dependencies\n",
    "\n",
    "This is a Python 3 package that relies on the following packages: NumPy, SciPy, Numba, Numexpr. It can be combined with packages like Dask to parallelize propagation jobs. "
   ],
   "metadata": {}
  },
  {
   "cell_type": "markdown",
   "source": [
    "# Overview\n",
    "\n",
    "Lightbeam is a bare-bones beam propagator. This means that the code can be very flexible, but also that you may have to code certain functionalities yourself. The purpose of this notebook is to reveal the different components of the code so you can make use of them. \n",
    "\n",
    "There are three main classes of objects that Lightbeam uses.\n",
    "1. <strong>Mesh</strong> objects, which control the physical size of the simulation zone as well as how that zone is subdivided.\n",
    "2. <strong>Optics</strong> objects, which encapsulate the geometry and material properties of the waveguide to be simulated.\n",
    "3. <strong>Propagator</strong> objects, which control parameters regarding the beam propagation algorithm.\n",
    "\n",
    "We will go over each component in turn. Regarding units, note that the specific choice does not matter. The code only requires that every parameter with a length attached to it is reported in the same units."
   ],
   "metadata": {}
  },
  {
   "cell_type": "markdown",
   "source": [
    "## 1. Meshes\n",
    "\n",
    "### Initialization\n",
    "\n",
    "To initialize a mesh, we use the RectMesh3D class. The required args are:\n",
    "\n",
    "<strong>\\__init__</strong>\n",
    "\n",
    "<strong>xw</strong>: total width of the simulation zone in the x direction.<br>\n",
    "<strong>yw</strong>: total width in the y direction.<br>\n",
    "<strong>zw</strong>: total length in the z direction.<br>\n",
    "<strong>ds</strong>: coarsest grid spacing in the transverse (x,y) plane. Note that this grid can later be subdivided for greater accuracy.<br>\n",
    "<strong>dz</strong>: grid spacing along the z direction.<br>\n",
    "\n",
    "(optional)\n",
    "\n",
    "<strong>PML</strong>: the number of extra grid points to be padded around the simulation zone (specifically in the xy direction). The conductivity of this outer zone will be tuned to damp any outgoing waves, reducing reflection across the simulation boundary. The specific technique used is called \"perfectly matched layers\" (PML) [2]. Note that to maintain consistency in simulations, __PML__ should scale as __ds__<sup>-1</sup>, so that the physical size of the PML zone remains consistent.\n",
    "\n",
    "<strong>xwfunc,ywfunc</strong>: these are functions which take in a z value and return a value for xw,yw. This allows the simulation zone to change in size, which is theoretically useful in simulating tapered waveguides. However, this option is not well tested yet. Leaving these parameters as None to leave xw,yw fixed.\n",
    "\n",
    "### Behind the scenes\n",
    "\n",
    "For the curious ... the RectMesh3D class is primarily a wrapper for the RectMesh2D class, which handles all the adaptive meshing and contains the important class methods. Specifically, the RectMesh3D class stores a RectMesh2D object under the class variable <strong>self.xy</strong>. The type of adaptive mesh implemented here is the simplest, where x and y are subdivided independently. This is a less computationally efficient approach, but maintains 4<sup>th</sup> order accuracy [1]. Resetting the transverse grid to coarse, uniform spacing is handled by <strong>RectMesh2D.reinit()</strong> while grid refinement is handled by <strong>RectMesh2D.refine_base()</strong>. The local degree of refinement required is currently measured from the geometric mean of field amplitude and magnitude of the field's second derivative; I have empirically found this method to work well. The metric by which refinement degree is measured is computed in __RectMesh2D._compute_refinement_factor()__. For more details, see Section 5.\n",
    "\n",
    "#### Code example"
   ],
   "metadata": {}
  },
  {
   "cell_type": "code",
   "execution_count": 6,
   "source": [
    "import sys\n",
    "sys.path.append(\"../src\") # you may need to modify this so Jupyter knows where the lightbeam package is.\n",
    "\n",
    "import lightbeam\n",
    "### Example Initialization ###\n",
    "\n",
    "# make a 64x64x10000 um mesh, wrapped with 8 PML cells. \n",
    "# set the transverse spacing to 1 um and the longitudinal spacing to 2 um.\n",
    "\n",
    "from lightbeam.mesh import RectMesh3D\n",
    "\n",
    "xw = 64 #um\n",
    "yw= 64 #um\n",
    "zw = 10000 #um\n",
    "num_PML = 8 #grid units\n",
    "\n",
    "ds = 1 #um\n",
    "dz = 2 #um\n",
    "\n",
    "_mesh = RectMesh3D(xw,yw,zw,ds,dz,num_PML)\n",
    "\n",
    "### some properties and class functions ###\n",
    "\n",
    "# shape\n",
    "print(_mesh.shape)\n",
    "\n",
    "# shape of transverse grid only\n",
    "print(_mesh.xy.shape)\n",
    "\n",
    "# plot the grid lines of the transverse mesh\n",
    "_mesh.xy.plot_mesh()\n"
   ],
   "outputs": [
    {
     "output_type": "stream",
     "name": "stdout",
     "text": [
      "(5001, 81, 81)\n",
      "(81, 81)\n"
     ]
    },
    {
     "output_type": "display_data",
     "data": {
      "image/png": "[encoded data removed]",
      "text/plain": [
       "<Figure size 432x288 with 1 Axes>"
      ]
     },
     "metadata": {
      "needs_background": "light"
     }
    }
   ],
   "metadata": {}
  },
  {
   "cell_type": "markdown",
   "source": [
    "#### Mesh refinement example"
   ],
   "metadata": {}
  },
  {
   "cell_type": "code",
   "execution_count": 8,
   "source": [
    "### Mesh refinement example ###\n",
    "\n",
    "# suppose our field is the LP11 mode, core radius 10 um\n",
    "# we want to subdivide our field according to this field.\n",
    "\n",
    "import matplotlib.pyplot as plt\n",
    "from lightbeam import LPmodes\n",
    "import numpy as np\n",
    "from lightbeam.misc import normalize\n",
    "\n",
    "# initial setup to generate the LP11 field\n",
    "x_grid , y_grid = _mesh.xg , _mesh.yg\n",
    "rcore = 10 #um\n",
    "wavelength = 1 #um\n",
    "ncore = 1.5\n",
    "nclad = 1.495\n",
    "field = normalize(LPmodes.lpfield(x_grid,y_grid,1,1,rcore,wavelength,ncore,nclad))\n",
    "plt.imshow(np.real(field))\n",
    "plt.show()\n",
    "\n",
    "ref_val = 1e-3  # lower this parameter to increase subdivisions. note that by default the code only allows \n",
    "                # for 6 subdivisions so that the minimum grid subdivision will be ds/2^6. This can be \\\n",
    "                # altered under the parameter RectMesh2D.max_iters.\n",
    "\n",
    "_mesh.xy.refine_base(field,ref_val)\n",
    "_mesh.xy.plot_mesh()"
   ],
   "outputs": [
    {
     "output_type": "display_data",
     "data": {
      "image/png": "[encoded data removed]",
      "text/plain": [
       "<Figure size 432x288 with 1 Axes>"
      ]
     },
     "metadata": {
      "needs_background": "light"
     }
    },
    {
     "output_type": "display_data",
     "data": {
      "image/png": "[encoded data removed]",
      "text/plain": [
       "<Figure size 432x288 with 1 Axes>"
      ]
     },
     "metadata": {
      "needs_background": "light"
     }
    }
   ],
   "metadata": {}
  },
  {
   "cell_type": "markdown",
   "source": [
    "## 2. Optics\n",
    "\n",
    "Since there is no GUI, implementing waveguide geometries will be more cumbersome than something like a CAD environment. Lightbeam provides a skeleton structure for users to define their own waveguide geometries, as well as some pre-defined classes for certain types of photonic lanterns.\n",
    "\n",
    "### Class types\n",
    "\n",
    "#### OpticPrim\n",
    "\n",
    "The base class of all optics is OpticPrim, which contains the basic framework for describing any homogeneous (i.e. only one refractive index) optical structure. Any custom-defined class for homogeneous optical structures should inherit from this class, and requires the definition of two functions: \n",
    "\n",
    "1. <strong>self._bbox(z)</strong>: a function that computes the 2D bounding box (xmin,xmax,ymin,ymax) of the optical structure at some given z coordinate.\n",
    "2. <strong>self._contains(x,y,z)</strong>: a boolean function that determines whether the point (x,y,z) is in the optical structure. This function <strong> must be vectorized</strong>.\n",
    "\n",
    "Of course the <strong>\\__init__()</strong> function will also have to be defined. \n",
    "\n",
    "An example OpticPrim-derived class, called __scaled_cyl__, has already been defined. This class can be used to describe any \"cylinder\" whose cross-sectional diameter and central offset change along the z direction (cylinder caps are assumed to be normal to z).  \n",
    "\n",
    "#### OpticSys\n",
    "\n",
    "The next level of complexity is the OpticSys class, which inherits from the OpticPrim class but is really a collection of OpticPrim objects. This class is used to model non-homogeneous optical structures (i.e. anything of interest). Initialization is simple. The required initialization arguments are\n",
    "\n",
    "<strong>\\__init__</strong>\n",
    "\n",
    "1. __elmnts__: a list of OpticPrim objects composing the optical system. In terms of refractive index, objects later in the list \"overwrite\" earlier objects.\n",
    "2. __nb__: the background refractive index in which the optical system is immersed in. Note that this should be similar to to refractive index of the objects in elmnts, to maintain the weakly-guiding approximation which all beam propagation algorithims are based on. For step-index fiber simulation, __nb__ is set to the cladding index (so the cladding is essentially infinite). For photonic lantern simulations, __nb__ is set to the jacket index.\n",
    "\n",
    "While OpticSys is in principle able to model any waveguide structure, for convenience you may wish to define custom classes derived from OpticSys for specific types of waveguides. This has already been done for several photonic lantern geometries, which you can see in __optics.py__.\n",
    "\n",
    "#### Code examples"
   ],
   "metadata": {}
  },
  {
   "cell_type": "code",
   "execution_count": 9,
   "source": [
    "### Let's look at primitives first.### \n",
    "# We'll use the scaled_cyl as an example, though not all primitives need to be defined in exactly the same way.\n",
    "# Note that scaled_cyl also requires us to give it a RectMesh2D object on which to compute refractive index distributions.\n",
    "\n",
    "_mesh.xy.reinit(xw,yw)                            # reset the mesh to base, uniform grid. this func specifically will reset \n",
    "_mesh.xy.update(_mesh.xy.rfacxa,_mesh.xy.rfacya)    # the grid refinement factors, rfacxa and rfacya\n",
    "\n",
    "import lightbeam.optics as optics\n",
    "\n",
    "# initialization params #\n",
    "\n",
    "xy = [0,0] # where the center of the cylinder is located at z=0.\n",
    "r = 10 # make the initial radius 10 um\n",
    "z_ex = 1000 # make the cylinder 1000 um long\n",
    "n = 1.5 # set the refractive index to 1.5\n",
    "nb = 1.49 # set the background index to 1.45\n",
    "final_scale = 2 # set the final cross-sectional scale to 2, so the cylinder grows by a factor of 2\n",
    "\n",
    "# instantiation #\n",
    "\n",
    "cyl = optics.scaled_cyl(xy,r,z_ex,n,nb,final_scale=final_scale)\n",
    "cyl.xymesh = _mesh.xy # pass in the mesh\n",
    "\n",
    "out = np.zeros(_mesh.xy.shape)\n",
    "\n",
    "# show structure at z=0\n",
    "# note that this function computes (refractive index)^2, since that is what's used in the beam prop algorithm.\n",
    "cyl.set_IORsq(out,0)\n",
    "plt.imshow(out,vmax=n*n,vmin=nb*nb)\n",
    "plt.axis('equal')\n",
    "plt.show()\n",
    "\n",
    "# show structure at z=1000\n",
    "cyl.set_IORsq(out,1000)\n",
    "plt.imshow(out,vmax=n*n,vmin=nb*nb)\n",
    "plt.axis('equal')\n",
    "plt.show()\n"
   ],
   "outputs": [
    {
     "output_type": "display_data",
     "data": {
      "image/png": "[encoded data removed]",
      "text/plain": [
       "<Figure size 432x288 with 1 Axes>"
      ]
     },
     "metadata": {
      "needs_background": "light"
     }
    },
    {
     "output_type": "display_data",
     "data": {
      "image/png": "[encoded data removed]",
      "text/plain": [
       "<Figure size 432x288 with 1 Axes>"
      ]
     },
     "metadata": {
      "needs_background": "light"
     }
    }
   ],
   "metadata": {}
  },
  {
   "cell_type": "markdown",
   "source": [
    "#### Constructing a photonic lantern"
   ],
   "metadata": {}
  },
  {
   "cell_type": "code",
   "execution_count": 10,
   "source": [
    "### Constructing a 3 port lantern ###\n",
    "\n",
    "core_offset = 4 # offset of cores from origin\n",
    "ncore = 1.4504 + 0.0088 # lantern core refractive index\n",
    "nclad = 1.4504 # cladding index\n",
    "njack = 1.4504 - 5.5e-3 # jacket index\n",
    "rclad = 8\n",
    "rcore = 1.5\n",
    "final_scale = 4 # tapering factor of lantern\n",
    "z_ex = 10000\n",
    "\n",
    "core0 = optics.scaled_cyl([0,core_offset],rcore,z_ex,ncore,nclad,final_scale=final_scale)\n",
    "core1 = optics.scaled_cyl([-np.sqrt(3)/2*core_offset,-core_offset/2],rcore,z_ex,ncore,nclad,final_scale=final_scale)\n",
    "core2 = optics.scaled_cyl([np.sqrt(3)/2*core_offset,-core_offset/2],rcore,z_ex,ncore,nclad,final_scale=final_scale)\n",
    "clad = optics.scaled_cyl([0,0],rclad,z_ex,nclad,njack,final_scale=final_scale)\n",
    "\n",
    "lant3 = optics.OpticSys([clad,core2,core1,core0],njack)\n",
    "lant3.set_sampling(_mesh.xy) # OpticSys objects have a function that can send a RectMesh2D object to all contianed primitives,\n",
    "                            # in order to set the sampling.\n",
    "\n",
    "out = np.zeros(_mesh.xy.shape)\n",
    "\n",
    "lant3.set_IORsq(out,0)\n",
    "plt.imshow(out,vmin=njack*njack,vmax=ncore*ncore)\n",
    "plt.show()\n",
    "\n",
    "lant3.set_IORsq(out,10000)\n",
    "plt.imshow(out,vmin=njack*njack,vmax=ncore*ncore)\n",
    "plt.show()"
   ],
   "outputs": [
    {
     "output_type": "display_data",
     "data": {
      "image/png": "[encoded data removed]",
      "text/plain": [
       "<Figure size 432x288 with 1 Axes>"
      ]
     },
     "metadata": {
      "needs_background": "light"
     }
    },
    {
     "output_type": "display_data",
     "data": {
      "image/png": "[encoded data removed]",
      "text/plain": [
       "<Figure size 432x288 with 1 Axes>"
      ]
     },
     "metadata": {
      "needs_background": "light"
     }
    }
   ],
   "metadata": {}
  },
  {
   "cell_type": "markdown",
   "source": [
    "## 3. Propagation\n",
    "\n",
    "Beam propagation is handled by the __Prop3D__ class. The technique used to simulate propagation belongs to a class of algorithms that all fall under the umbrella term \"finite-differences beam propagation method\", or FD-BPM. The particular variant used here follows [1], and works on an adaptive mesh. To initialize a __Prop3D__ object, we need to pass in four things:\n",
    "\n",
    "<strong>\\__init__</strong>\n",
    "1. __wl0__: the propagation wavelength (remember to keep your units consistent). \n",
    "2. __mesh__: the __RectMesh3D__ object defining the simulation space sampling.\n",
    "3. __optical_system__: the __OpticalSys__ object defining the waveguide geometry which you want to simulate.\n",
    "3. __n0__: the effective index of propagation for light moving through the waveguide. Physically, this index should be between the highest and lowest indices in the waveguide, which means that setting this to something like a cladding index (recalling we are in the weakly guiding regime) is usually okay. \n",
    "\n",
    "To actually start the beam propagation, run the function __Prop3D.prop2end()__, which takes in a launch field and returns the propagated field at the end of the waveguide. Below are the arguments. <br>\n",
    "\n",
    "<strong>prop2end</strong> <br>\n",
    "\n",
    "1. __u__: 2D complex array defining the launch field. If the shape of this array does not match the shape of the transverse grid of the simulation zone, the field will be resampled on the grid. In terms of normalization, the power of this field should equal $ \\sum_{ij} u^*_{ij}u_{ij} $. Alternatively, you can pass in a function of the form f(x,y) with the same normalization. This latter option is more accurate when using adaptive mesh refinement.\n",
    "\n",
    "(Optional)\n",
    "2. __xyslice__,__zslice__: (deprecated) these parameters are arrays of indices which can be used to define a subsection of the field data to save, useful if you want to get cross-sectional images of the electric field as it traverses the waveguide. This feature has not been touched in a while and probably no longer works.\n",
    "3. __u1_func__: pass in a function of the form f(x,y) that returns an electric field; the propagator will compute the overlap of the electric field and this \"monitor\" field at each propagation step. Can be useful if you want to track the behavior of the electric field as it moves through the waveguide.\n",
    "4. __writeto__: (deprecated) a file name string for where to save field data to.\n",
    "5. __ref_val__: this (float) parameter controls the aggressiveness of the adaptive meshing. Smaller values means more subdivision. At the moment, finding an appropriate value for this parameter requires trial-and-error.\n",
    "6. __remesh_every__: this (int) parameter controls how many z-steps occur before the adaptive mesh is updated.\n",
    "7. __dynamic_n0__: when True, the propagator will average the refractive indices in the waveguide system in order to estimate the effective index. Defaults to False.\n",
    "8. __fplanewidth__: here, you can assign a physical extent to the input field __u__, which will be accounted form when the field is resampled onto the simulation grid. When set to 0, the propagator assumes that the physical extent of the launch field is the same as that of the transverse grid contained in the __mesh__ object (__not__ including PML).\n",
    "\n",
    "Returns\n",
    "\n",
    "1. __u__: propagated electric field, sampled on the last non-uniform mesh (this __includes__ the PML zone) used by the propagator. Note that the returned field will be in a different normalization scheme than the input field, to account for the adaptive mesh. The field will be normalized such that the field power equals $ \\sum_{ij} w_{ij} u^*_{ij}u_{ij} $, where $w_{ij}$ is the area of the grid cell at index [i,j]. Access this weighting factor through __RectMesh2D.get_weights()__.\n",
    "2. __u0__: similar to above, but sampled on the __base__ uniform mesh \n",
    "\n",
    "A similar propagator, __prop2end_uniform__, is available to handle beam propagation on a fixed, uniform grid."
   ],
   "metadata": {}
  },
  {
   "cell_type": "markdown",
   "source": [
    "#### Code example"
   ],
   "metadata": {}
  },
  {
   "cell_type": "code",
   "execution_count": 13,
   "source": [
    "### Code example ###\r\n",
    "\r\n",
    "import matplotlib.pyplot as plt\r\n",
    "import numpy as np\r\n",
    "\r\n",
    "# first off, note that running Lightbeam code in a Jupyter notebook is probably not the greatest idea. A better practice would\r\n",
    "# be to write dedicated Python scripts to execute the propagation. As an example, see run_bpm_example.py and config_example.py\r\n",
    "# for one way to do this scripting.\r\n",
    "\r\n",
    "# nevertheless, we will show some examples of how to run Lightbeam within this notebook environment, as well.\r\n",
    "\r\n",
    "# below is a simple example where we propagate the LP01 mode with some tilt applied through a single-mode fiber.\r\n",
    "# note that in this simple example, I find no noticeable improvement from adaptive meshing, so we won't use it.\r\n",
    "# more complicated waveguide geometries such as photonic lanterns do benefit from adaptive meshing, see section 5.\r\n",
    "\r\n",
    "wl = 1.55 #um, wavelength\r\n",
    "\r\n",
    "## Mesh ##\r\n",
    "\r\n",
    "from lightbeam.mesh import RectMesh3D\r\n",
    "\r\n",
    "xw = 32 #um\r\n",
    "yw= 32 #um\r\n",
    "zw = 10000 #um\r\n",
    "num_PML = 4 #grid units\r\n",
    "\r\n",
    "ds = 0.125 #um\r\n",
    "dz = 4 #um\r\n",
    "\r\n",
    "_mesh = RectMesh3D(xw,yw,zw,ds,dz,num_PML)\r\n",
    "xg, yg = _mesh.xg[num_PML:-num_PML,num_PML:-num_PML],_mesh.yg[num_PML:-num_PML,num_PML:-num_PML]\r\n",
    "\r\n",
    "\r\n",
    "## Optic (SMF) ##\r\n",
    "\r\n",
    "import lightbeam.optics as optics\r\n",
    "\r\n",
    "rcore = 3 #um\r\n",
    "\r\n",
    "ncore = 1.4504 + 0.0088\r\n",
    "nclad = 1.4504\r\n",
    "\r\n",
    "fiber_core = optics.scaled_cyl([0,0],rcore,zw,ncore,nclad)\r\n",
    "SMF = optics.OpticSys([fiber_core],nclad)\r\n",
    "\r\n",
    "## Launch field ## \r\n",
    "\r\n",
    "import lightbeam.LPmodes as LPmodes\r\n",
    "from lightbeam.misc import normalize\r\n",
    "\r\n",
    "u0 = normalize(LPmodes.lpfield(xg,yg,0,1,rcore,wl,ncore,nclad))\r\n",
    "\r\n",
    "print(\"input field: \")\r\n",
    "plt.imshow(np.abs(u0))\r\n",
    "plt.show()\r\n",
    "\r\n",
    "## propagation ##\r\n",
    "\r\n",
    "from lightbeam.prop import Prop3D\r\n",
    "\r\n",
    "prop = Prop3D(wl,_mesh,SMF,nclad)\r\n",
    "\r\n",
    "u0 = prop.prop2end_uniform(u0)\r\n",
    "\r\n",
    "print(\"output field: \")\r\n",
    "plt.imshow(np.abs(u0))\r\n",
    "plt.show()\r\n"
   ],
   "outputs": [
    {
     "output_type": "stream",
     "name": "stdout",
     "text": [
      "input field: \n"
     ]
    },
    {
     "output_type": "display_data",
     "data": {
      "image/png": "[encoded data removed]",
      "text/plain": [
       "<Figure size 432x288 with 1 Axes>"
      ]
     },
     "metadata": {
      "needs_background": "light"
     }
    },
    {
     "output_type": "stream",
     "name": "stdout",
     "text": [
      "input power:  0.9999999999999998\n",
      "propagating field...\n",
      "initial shape:  (265, 265)\n",
      " |████████████████████████████████████████████████████████████████████████████████████████████████████| 100.0% \n",
      "final total power 0.9992738909545036\n",
      "'prop2end_uniform'  22.2484 s\n",
      "output field: \n"
     ]
    },
    {
     "output_type": "display_data",
     "data": {
      "image/png": "[encoded data removed]",
      "text/plain": [
       "<Figure size 432x288 with 1 Axes>"
      ]
     },
     "metadata": {
      "needs_background": "light"
     }
    }
   ],
   "metadata": {
    "scrolled": true
   }
  },
  {
   "cell_type": "markdown",
   "source": [
    "## 4. Extra functionality\n",
    "\n",
    "Here we go over some extra functions you may find useful in conjunction with the main propagation code in Lightbeam.\n",
    "\n",
    "### Zernike Polynomials\n",
    "\n",
    "The file __zernike.py__ contains functions for generating Zernike aberrations. To generate a Zernike field, you can use __Zj_cart()__.\n",
    "\n",
    "### LP modes\n",
    "\n",
    "The file __LPmodes.py__ contains functions for generating the LP modes of a circularly symmetric step-index fiber. Fields can be generated using the function __lpfield()__.\n",
    "\n",
    "### Turbulence\n",
    "\n",
    "A simple auto-regressive and Fourier-based model for Kolmogorov turbulence can be found in __screen.py__. The model is based on the implementation from [3].\n",
    "\n",
    "### Misc utility functions\n",
    "\n",
    "Functions for computing overlap integrals and for normalizing fields can be found in __misc.py__."
   ],
   "metadata": {}
  },
  {
   "cell_type": "markdown",
   "source": [
    "## 5. More on adaptive meshing\r\n",
    "\r\n",
    "### Disclaimers\r\n",
    "\r\n",
    "This package's implementation of adaptive mesh refinement (AMR) is __not__ a switch that can be flicked to make beam propagation faster and more accurate. Below are some things to keep in mind.\r\n",
    "\r\n",
    "1. For simple geometries like step-index fibers, AMR provides little to no benefit.\r\n",
    "2. While propagation through each z-step is theoretically accurate to 4th order, errors will arise due to interpolation of the electric field, which must be done whenever the adaptive mesh is modified.\r\n",
    "3. The AMR algorithm is more much more complex, offsetting potential savings in computation time.\r\n",
    "4. Finding the best adaptive meshing parameters for your given application needs to be done empirically, and will take some effort.\r\n",
    "\r\n",
    "Despite this, if properly tuned, AMR can indeed provide some savings to computation time.\r\n",
    "\r\n",
    "### Tuning AMR\r\n",
    "\r\n",
    "Getting AMR to work well is more an art than a science. The important parameters to tweak are as follows:\r\n",
    "\r\n",
    "1. __RectMesh2D.dx__ (and __dy__): the base grid resolution. Often times, I find that it is good to not let this parameter get too coarse (it should probably be smaller than the propagation wavelength.)\r\n",
    "2. __RectMesh2D.max_iters__: the maximum amount of halvings that a base grid cell can undergo. Values of 4-7 typically work well.\r\n",
    "3. __ref_val__: a reference value (arg of __prop2end__) that controls how aggressively cells are split. See also: <strong> RectMesh2D._compute_refinement_factor() </strong>. Lower values correspond to a more aggressive splitting. For the default mesh refinement scheme, \"good\" values for this parameter will like be on the order of 10<sup>-4</sup>.\r\n",
    "4. __remesh_every__: (arg of __prop2end__) the number of z-steps that pass before the adaptive mesh is recomputed.\r\n",
    "5. (Optional) <strong> RectMesh2D._compute_refinement_factor(). </strong>: the function that determines which grid cells should be split. The default scheme generally works well, but will likely not be globally optimal.\r\n",
    "\r\n",
    "\r\n",
    "### An example use case\r\n",
    "\r\n",
    "Below are results from the simulation of a tilted LP01 mode field propagating through a 3-port lantern. This lantern has an initial entrance diameter of 8 um and a taper factor of 4 (so that the exit geometry is simply the entrance geometry, but scaled up by a factor of 4), and the output SMF cores have a diameter of 4.4 um. The propagation wavelength is 1 um. Plotted in black is simulation accuracy against computation time (the points from left to right corresponds to grid resolutions of 2, 1, 1/2, 1/4, 1/8, 1/16, and 1/32 um respectively.) Plotted in blue is with AMR turned on, setting base resolution __dx__ = __dy__ = 0.25 um, __ref_val__ = 2e-4, __max_iters__ = 5, and __remesh_every__ = 50.\r\n",
    "\r\n",
    "![](amr_comp.png)\r\n",
    "\r\n",
    "*Notes* <br>\r\n",
    "\r\n",
    "Plotting an absolute error requires knowing the \"true\" output port powers for this lantern and launch field. For practicality, this was assumed to be the output of the beam propagator, setting a uniform grid resolution of 1/64 um (this simulation took me 14 hours to run!). \"Error\" of a given lantern response is quantified as the distance between the vector composed of the lantern port powers and the vector of \"true\" port powers. The code used to generate this plot is based off __convergence.py__."
   ],
   "metadata": {}
  },
  {
   "cell_type": "markdown",
   "source": [
    "# References \n",
    "\n",
    "[1] Jun Shibayama, Kenji Matsubara, Minoru Sekiguchi, Junji Yamauchi, and Hisamatsu Nakano, \"Efficient Nonuniform Schemes for Paraxial and Wide-Angle Finite-Difference Beam Propagation Methods,\" J. Lightwave Technol. 17, 677- (1999) <br>\n",
    "\n",
    "[2] Ginés Lifante Pedrola, \"Beam Propagation Method for Design of Optical Waveguide Devices,\" Wiley (2015) <br>\n",
    "\n",
    "[3] Srikar Srinath, Lisa A. Poyneer, Alexander R. Rudy, and S. Mark Ammons, \"Computationally efficient autoregressive method for generating phase screens with frozen flow and turbulence in optical simulations,\" Opt. Express 23, 33335-33349 (2015)"
   ],
   "metadata": {}
  }
 ],
 "metadata": {
  "interpreter": {
   "hash": "e853fb0d24eb70871cd6a99f83a3878df3b6be73856a385d78e5dcf93ea83184"
  },
  "kernelspec": {
   "display_name": "Python 3",
   "language": "python",
   "name": "python3"
  },
  "language_info": {
   "codemirror_mode": {
    "name": "ipython",
    "version": 3
   },
   "file_extension": ".py",
   "mimetype": "text/x-python",
   "name": "python",
   "nbconvert_exporter": "python",
   "pygments_lexer": "ipython3",
   "version": "3.7.6"
  }
 },
 "nbformat": 4,
 "nbformat_minor": 4
}